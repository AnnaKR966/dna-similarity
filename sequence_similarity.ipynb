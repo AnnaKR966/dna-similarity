{{
 "cells": [
  {
   "cell_type": "markdown",
   "id": "caf5220f-ff9f-4f96-a0b8-14a4f3c9d7b2",
   "metadata": {},
   "source": [
    "Code that compares multiple the DNA sequences for percentage of identical bases then plots the data in a heatmap"
   ]
  },
  {
   "cell_type": "code",
   "execution_count": 1,
   "id": "e4be7bc1-1708-4556-9f72-3b1dea47343c",
   "metadata": {
    "tags": []
   },
   "outputs": [],
   "source": [
    "#packages needed\n",
    "from Bio.Seq import Seq\n",
    "from Bio import pairwise2\n",
    "import pandas as pd\n",
    "import seaborn as sns\n",
    "import matplotlib.pyplot as plt"
   ]
  },
  {
   "cell_type": "markdown",
   "id": "07ec5047-7057-42cb-aa6b-ca06416ab463",
   "metadata": {},
   "source": [
    "Defining a percent function which compares the DNA sequences for percentage identity and feeds the results into the match_dic library. The alignment used is +1 for a match and 0 for a gap or mismatch"
   ]
  },
  {
   "cell_type": "code",
   "execution_count": 2,
   "id": "521bb7cd-d448-477c-a1db-35ce9ecfeb19",
   "metadata": {},
   "outputs": [],
   "source": [
    "def percent(seq1, dna1, seq2, dna2):\n",
    "    alignments = pairwise2.align.globalxx(dna1, dna2, score_only = True)\n",
    "    seq_length = max(len(dna1), len(dna2))\n",
    "    percent_match = (alignments / seq_length) * 100\n",
    "    match_dic[\"sequence_1\"].append(seq1)\n",
    "    match_dic[\"sequence_2\"].append(seq2)\n",
    "    match_dic[\"percent_match\"].append(percent_match)\t "
   ]
  },
  {
   "cell_type": "code",
   "execution_count": 3,
   "id": "819a39aa-6c83-4f83-9540-676e7e4892eb",
   "metadata": {},
   "outputs": [],
   "source": [
    "#an empty dictionary ready for the percentage similarity output  \n",
    "match_dic = {\"sequence_1\":[],\"sequence_2\":[],\"percent_match\":[]}"
   ]
  },
  {
   "cell_type": "markdown",
   "id": "b9f484fb-7c73-4e68-a390-0d1d5b32d1d5",
   "metadata": {},
   "source": [
    "Inputting the data ready for comparison"
   ]
  },
  {
   "cell_type": "code",
   "execution_count": 4,
   "id": "f200694f-4f09-4702-8e94-ddb4d32a8f4b",
   "metadata": {
    "tags": []
   },
   "outputs": [],
   "source": [
    "#imput of raw data\n",
    "seq_1 = Seq(\"GGCTTCACCCTTAGGGCATTAGCCCCTTAACCCTCTATTAGGCGCATTAATTAGGTCTATTACCCTTAACCATTACATTAGGGGGCTTATTCAGGCATTAGGTCTCATTAGATTAG\")\n",
    "seq_2 = Seq(\"TTAAGCGCATTAATTAGCCCCTTAACCCTCTATACCCTTATAGGGCATTAGCCCCTTAACCCTCTATTAGGGCATTAGCCCCTTAACCCTCTATTAGGC\")\n",
    "seq_3 = Seq(\"GGCATTAGCCCCGCATTATTAAACCCTTACCCTCTATTAGGTTATGCATTAGGGCATTAGCCCCTTAACCCTCTGCATTAATTAGGCCA\")\n",
    "seq_4 = Seq(\"GGCTTCACCCTTAGGGCATTAGCCCCTTAACCCTCTATTAGGCGCATTAATTAGGTCTATTACCCTTAACCATTACATTAGGGGGCTTATTCAGGCATTAGGTC\")\n",
    "seq_5 = Seq(\"TTAAGCGCATTAATTAGCCCCTTAACCCTCTATACCCTTATACCTGGGCATTAGCCCCTTAACCCTCTATTAGGGCATTAGCCCCTTAACCCTCTATTAGG\")\n",
    "seq_6 = Seq(\"CCCTTAACCCTTATTAAACCCTTCCTTATAGTAGGGCATTAGCCCCTTAACCCTCTATTAGTATTAAACCCTTGGGGCTTATTATTAAACCCTTTAGGTC\")\n",
    "\n",
    "#adding data into a library so data retains the name of the DNA\n",
    "seq_dic = {\n",
    "    \"seq_1\": seq_1, \n",
    "    \"seq_2\": seq_2, \n",
    "    \"seq_3\" : seq_3,\n",
    "    \"seq_4\": seq_4,\n",
    "    \"seq_5\" : seq_5,\n",
    "    \"seq_6\": seq_6\n",
    "        }"
   ]
  },
  {
   "cell_type": "markdown",
   "id": "f7f74284-4f1c-4846-8913-f0fb7cfa7606",
   "metadata": {},
   "source": [
    "The nested for loop, designed to run each of the four dna sequences against each other"
   ]
  },
  {
   "cell_type": "code",
   "execution_count": 5,
   "id": "6f81e3f5-cf59-47cd-b366-2c571021d72c",
   "metadata": {},
   "outputs": [],
   "source": [
    "for seq1, dna1 in seq_dic.items():\n",
    "    for seq2, dna2 in seq_dic.items():\n",
    "        percent(seq1, dna1, seq2, dna2)"
   ]
  },
  {
   "cell_type": "markdown",
   "id": "64d9b2a4-11dc-4f07-8614-d6e4e6b90b33",
   "metadata": {},
   "source": [
    "Converting the resulting dictionary into a pandas dataframe"
   ]
  },
  {
   "cell_type": "code",
   "execution_count": 6,
   "id": "375b3e56-6f6a-4d65-b04f-d529c9fd9a09",
   "metadata": {},
   "outputs": [],
   "source": [
    "data_match_long = pd.DataFrame.from_dict(match_dic)\n",
    "data_match_long\n",
    "\n",
    "#save dataframe for percetnage identity\n",
    "data_match_long.to_csv('pandas_dataframe', index=False)"
   ]
  },
  {
   "cell_type": "markdown",
   "id": "53a66d3d-8a73-4b02-b879-8e4d55a2eb41",
   "metadata": {},
   "source": [
    "Pivoting the dataframe into a wide format so seaborn can generate a heatmap"
   ]
  },
  {
   "cell_type": "code",
   "execution_count": 7,
   "id": "43b84489-9393-41ad-a2ba-d8e016c2cd51",
   "metadata": {},
   "outputs": [
    {
     "data": {
      "text/html": [
       "<div>\n",
       "<style scoped>\n",
       "    .dataframe tbody tr th:only-of-type {\n",
       "        vertical-align: middle;\n",
       "    }\n",
       "\n",
       "    .dataframe tbody tr th {\n",
       "        vertical-align: top;\n",
       "    }\n",
       "\n",
       "    .dataframe thead th {\n",
       "        text-align: right;\n",
       "    }\n",
       "</style>\n",
       "<table border=\"1\" class=\"dataframe\">\n",
       "  <thead>\n",
       "    <tr style=\"text-align: right;\">\n",
       "      <th>sequence_2</th>\n",
       "      <th>seq_1</th>\n",
       "      <th>seq_2</th>\n",
       "      <th>seq_3</th>\n",
       "      <th>seq_4</th>\n",
       "      <th>seq_5</th>\n",
       "      <th>seq_6</th>\n",
       "    </tr>\n",
       "    <tr>\n",
       "      <th>sequence_1</th>\n",
       "      <th></th>\n",
       "      <th></th>\n",
       "      <th></th>\n",
       "      <th></th>\n",
       "      <th></th>\n",
       "      <th></th>\n",
       "    </tr>\n",
       "  </thead>\n",
       "  <tbody>\n",
       "    <tr>\n",
       "      <th>seq_1</th>\n",
       "      <td>100.000000</td>\n",
       "      <td>69.827586</td>\n",
       "      <td>63.793103</td>\n",
       "      <td>89.655172</td>\n",
       "      <td>69.827586</td>\n",
       "      <td>63.793103</td>\n",
       "    </tr>\n",
       "    <tr>\n",
       "      <th>seq_2</th>\n",
       "      <td>69.827586</td>\n",
       "      <td>100.000000</td>\n",
       "      <td>71.717172</td>\n",
       "      <td>74.038462</td>\n",
       "      <td>97.029703</td>\n",
       "      <td>76.000000</td>\n",
       "    </tr>\n",
       "    <tr>\n",
       "      <th>seq_3</th>\n",
       "      <td>63.793103</td>\n",
       "      <td>71.717172</td>\n",
       "      <td>100.000000</td>\n",
       "      <td>69.230769</td>\n",
       "      <td>71.287129</td>\n",
       "      <td>67.000000</td>\n",
       "    </tr>\n",
       "    <tr>\n",
       "      <th>seq_4</th>\n",
       "      <td>89.655172</td>\n",
       "      <td>74.038462</td>\n",
       "      <td>69.230769</td>\n",
       "      <td>100.000000</td>\n",
       "      <td>73.076923</td>\n",
       "      <td>69.230769</td>\n",
       "    </tr>\n",
       "    <tr>\n",
       "      <th>seq_5</th>\n",
       "      <td>69.827586</td>\n",
       "      <td>97.029703</td>\n",
       "      <td>71.287129</td>\n",
       "      <td>73.076923</td>\n",
       "      <td>100.000000</td>\n",
       "      <td>75.247525</td>\n",
       "    </tr>\n",
       "    <tr>\n",
       "      <th>seq_6</th>\n",
       "      <td>63.793103</td>\n",
       "      <td>76.000000</td>\n",
       "      <td>67.000000</td>\n",
       "      <td>69.230769</td>\n",
       "      <td>75.247525</td>\n",
       "      <td>100.000000</td>\n",
       "    </tr>\n",
       "  </tbody>\n",
       "</table>\n",
       "</div>"
      ],
      "text/plain": [
       "sequence_2       seq_1       seq_2       seq_3       seq_4       seq_5  \\\n",
       "sequence_1                                                               \n",
       "seq_1       100.000000   69.827586   63.793103   89.655172   69.827586   \n",
       "seq_2        69.827586  100.000000   71.717172   74.038462   97.029703   \n",
       "seq_3        63.793103   71.717172  100.000000   69.230769   71.287129   \n",
       "seq_4        89.655172   74.038462   69.230769  100.000000   73.076923   \n",
       "seq_5        69.827586   97.029703   71.287129   73.076923  100.000000   \n",
       "seq_6        63.793103   76.000000   67.000000   69.230769   75.247525   \n",
       "\n",
       "sequence_2       seq_6  \n",
       "sequence_1              \n",
       "seq_1        63.793103  \n",
       "seq_2        76.000000  \n",
       "seq_3        67.000000  \n",
       "seq_4        69.230769  \n",
       "seq_5        75.247525  \n",
       "seq_6       100.000000  "
      ]
     },
     "execution_count": 7,
     "metadata": {},
     "output_type": "execute_result"
    }
   ],
   "source": [
    "data_match = data_match_long.pivot_table(index = 'sequence_1', columns = 'sequence_2', values = 'percent_match')     \n",
    "data_match"
   ]
  },
  {
   "cell_type": "markdown",
   "id": "28e85123-0f51-45ea-b6b6-98ccea48825b",
   "metadata": {},
   "source": [
    "Visualizing the data using a heatmap"
   ]
  },
  {
   "cell_type": "code",
   "execution_count": 8,
   "id": "cc2d1174-1118-4cb9-8fb5-e91189ef3633",
   "metadata": {
    "tags": []
   },
   "outputs": [
    {
     "data": {
      "image/png": "[encoded data removed]",
      "text/plain": [
       "<Figure size 640x480 with 2 Axes>"
      ]
     },
     "metadata": {},
     "output_type": "display_data"
    }
   ],
   "source": [
    "sns.set_theme()\n",
    "hm = sns.heatmap(data_match, cmap=\"mako\")\n",
    "hm1 = hm.set(xlabel=\"\", ylabel=\"\")\n",
    "hm2 = hm.xaxis.tick_top()\n",
    "\n",
    "#Sequence similarity table transformed for the heatmap\n",
    "plt.savefig(\"seaborn_plot.svg\", format='svg')"
   ]
  }
 ],
 "metadata": {
  "kernelspec": {
   "display_name": "Python 3 (ipykernel)",
   "language": "python",
   "name": "python3"
  },
  "language_info": {
   "codemirror_mode": {
    "name": "ipython",
    "version": 3
   },
   "file_extension": ".py",
   "mimetype": "text/x-python",
   "name": "python",
   "nbconvert_exporter": "python",
   "pygments_lexer": "ipython3",
   "version": "3.11.7"
  }
 },
 "nbformat": 4,
 "nbformat_minor": 5
}
